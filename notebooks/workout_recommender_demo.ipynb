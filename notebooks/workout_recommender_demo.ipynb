{
 "cells": [
  {
   "cell_type": "markdown",
   "metadata": {},
   "source": [
    "# Workout Recommender Demo\n",
    "\n",
    "This notebook demonstrates how to use the workout recommender system to generate personalized exercise recommendations."
   ]
  },
  {
   "cell_type": "code",
   "execution_count": 9,
   "metadata": {},
   "outputs": [],
   "source": [
    "import sys\n",
    "sys.path.append('..')\n",
    "\n",
    "from src.data_processor import ExerciseDataProcessor\n",
    "from src.recommender import WorkoutRecommender\n",
    "import pandas as pd\n",
    "import matplotlib.pyplot as plt\n",
    "import seaborn as sns"
   ]
  },
  {
   "cell_type": "markdown",
   "metadata": {},
   "source": [
    "## 1. Load and Process Data"
   ]
  },
  {
   "cell_type": "code",
   "execution_count": 11,
   "metadata": {},
   "outputs": [
    {
     "data": {
      "text/html": [
       "<div>\n",
       "<style scoped>\n",
       "    .dataframe tbody tr th:only-of-type {\n",
       "        vertical-align: middle;\n",
       "    }\n",
       "\n",
       "    .dataframe tbody tr th {\n",
       "        vertical-align: top;\n",
       "    }\n",
       "\n",
       "    .dataframe thead th {\n",
       "        text-align: right;\n",
       "    }\n",
       "</style>\n",
       "<table border=\"1\" class=\"dataframe\">\n",
       "  <thead>\n",
       "    <tr style=\"text-align: right;\">\n",
       "      <th></th>\n",
       "      <th>epoch (ms)</th>\n",
       "      <th>time (01:00)</th>\n",
       "      <th>elapsed (s)</th>\n",
       "      <th>x-axis (g)</th>\n",
       "      <th>y-axis (g)</th>\n",
       "      <th>z-axis (g)</th>\n",
       "    </tr>\n",
       "  </thead>\n",
       "  <tbody>\n",
       "    <tr>\n",
       "      <th>0</th>\n",
       "      <td>1547219408431</td>\n",
       "      <td>2019-01-11T16:10:08.431</td>\n",
       "      <td>0.00</td>\n",
       "      <td>0.010</td>\n",
       "      <td>0.964</td>\n",
       "      <td>-0.087</td>\n",
       "    </tr>\n",
       "    <tr>\n",
       "      <th>1</th>\n",
       "      <td>1547219408511</td>\n",
       "      <td>2019-01-11T16:10:08.511</td>\n",
       "      <td>0.08</td>\n",
       "      <td>0.000</td>\n",
       "      <td>0.961</td>\n",
       "      <td>-0.069</td>\n",
       "    </tr>\n",
       "    <tr>\n",
       "      <th>2</th>\n",
       "      <td>1547219408591</td>\n",
       "      <td>2019-01-11T16:10:08.591</td>\n",
       "      <td>0.16</td>\n",
       "      <td>0.001</td>\n",
       "      <td>0.974</td>\n",
       "      <td>-0.087</td>\n",
       "    </tr>\n",
       "    <tr>\n",
       "      <th>3</th>\n",
       "      <td>1547219408671</td>\n",
       "      <td>2019-01-11T16:10:08.671</td>\n",
       "      <td>0.24</td>\n",
       "      <td>-0.012</td>\n",
       "      <td>0.971</td>\n",
       "      <td>-0.084</td>\n",
       "    </tr>\n",
       "    <tr>\n",
       "      <th>4</th>\n",
       "      <td>1547219408751</td>\n",
       "      <td>2019-01-11T16:10:08.751</td>\n",
       "      <td>0.32</td>\n",
       "      <td>-0.013</td>\n",
       "      <td>0.954</td>\n",
       "      <td>-0.094</td>\n",
       "    </tr>\n",
       "  </tbody>\n",
       "</table>\n",
       "</div>"
      ],
      "text/plain": [
       "      epoch (ms)             time (01:00)  elapsed (s)  x-axis (g)  \\\n",
       "0  1547219408431  2019-01-11T16:10:08.431         0.00       0.010   \n",
       "1  1547219408511  2019-01-11T16:10:08.511         0.08       0.000   \n",
       "2  1547219408591  2019-01-11T16:10:08.591         0.16       0.001   \n",
       "3  1547219408671  2019-01-11T16:10:08.671         0.24      -0.012   \n",
       "4  1547219408751  2019-01-11T16:10:08.751         0.32      -0.013   \n",
       "\n",
       "   y-axis (g)  z-axis (g)  \n",
       "0       0.964      -0.087  \n",
       "1       0.961      -0.069  \n",
       "2       0.974      -0.087  \n",
       "3       0.971      -0.084  \n",
       "4       0.954      -0.094  "
      ]
     },
     "execution_count": 11,
     "metadata": {},
     "output_type": "execute_result"
    }
   ],
   "source": [
    "# Initialize data processor\n",
    "processor = ExerciseDataProcessor()\n",
    "\n",
    "# Load raw data\n",
    "# Note: Replace 'your_data_file.csv' with your actual data file\n",
    "raw_data = processor.load_raw_data('MetaMotion/A-bench-heavy2-rpe8_MetaWear_2019-01-11T16.10.08.270_C42732BE255C_Accelerometer_12.500Hz_1.4.4.csv')\n",
    "\n",
    "# Display first few rows of raw data\n",
    "raw_data.head()"
   ]
  },
  {
   "cell_type": "code",
   "execution_count": 13,
   "metadata": {},
   "outputs": [
    {
     "name": "stdout",
     "output_type": "stream",
     "text": [
      "<class 'pandas.core.frame.DataFrame'>\n",
      "RangeIndex: 206 entries, 0 to 205\n",
      "Data columns (total 6 columns):\n",
      " #   Column        Non-Null Count  Dtype   \n",
      "---  ------        --------------  -----   \n",
      " 0   epoch (ms)    206 non-null    int64   \n",
      " 1   time (01:00)  206 non-null    category\n",
      " 2   elapsed (s)   206 non-null    float64 \n",
      " 3   x-axis (g)    206 non-null    float64 \n",
      " 4   y-axis (g)    206 non-null    float64 \n",
      " 5   z-axis (g)    206 non-null    float64 \n",
      "dtypes: category(1), float64(4), int64(1)\n",
      "memory usage: 18.3 KB\n"
     ]
    },
    {
     "name": "stderr",
     "output_type": "stream",
     "text": [
      "E:\\AI\\notebooks\\..\\src\\data_processor.py:58: FutureWarning: DataFrame.fillna with 'method' is deprecated and will raise in a future version. Use obj.ffill() or obj.bfill() instead.\n",
      "  df = df.fillna(method='ffill')\n"
     ]
    }
   ],
   "source": [
    "# Preprocess the data\n",
    "processed_data = processor.preprocess_data()\n",
    "\n",
    "# Display processed data info\n",
    "processed_data.info()"
   ]
  },
  {
   "cell_type": "markdown",
   "metadata": {},
   "source": [
    "## 2. Initialize and Use the Recommender"
   ]
  },
  {
   "cell_type": "code",
   "execution_count": 14,
   "metadata": {},
   "outputs": [],
   "source": [
    "# Initialize recommender\n",
    "recommender = WorkoutRecommender()\n",
    "\n",
    "# Load processed data into recommender\n",
    "recommender.load_data(processed_data)"
   ]
  },
  {
   "cell_type": "code",
   "execution_count": 17,
   "metadata": {},
   "outputs": [
    {
     "name": "stdout",
     "output_type": "stream",
     "text": [
      "\n",
      "Recommendation 1:\n",
      "Exercise: N/A\n",
      "Similarity Score: 0.00\n",
      "Details: {'exercise': {'epoch (ms)': 1547219424831, 'time (01:00)': '2019-01-11T16:10:24.831', 'elapsed (s)': 16.4, 'x-axis (g)': 0.021, 'y-axis (g)': 0.966, 'z-axis (g)': -0.108}, 'similarity_score': np.float64(0.0)}\n",
      "\n",
      "Recommendation 2:\n",
      "Exercise: N/A\n",
      "Similarity Score: 0.00\n",
      "Details: {'exercise': {'epoch (ms)': 1547219424751, 'time (01:00)': '2019-01-11T16:10:24.751', 'elapsed (s)': 16.32, 'x-axis (g)': 0.008, 'y-axis (g)': 0.937, 'z-axis (g)': -0.085}, 'similarity_score': np.float64(0.0)}\n",
      "\n",
      "Recommendation 3:\n",
      "Exercise: N/A\n",
      "Similarity Score: 0.00\n",
      "Details: {'exercise': {'epoch (ms)': 1547219424671, 'time (01:00)': '2019-01-11T16:10:24.671', 'elapsed (s)': 16.24, 'x-axis (g)': 0.011, 'y-axis (g)': 0.978, 'z-axis (g)': -0.091}, 'similarity_score': np.float64(0.0)}\n",
      "\n",
      "Recommendation 4:\n",
      "Exercise: N/A\n",
      "Similarity Score: 0.00\n",
      "Details: {'exercise': {'epoch (ms)': 1547219424591, 'time (01:00)': '2019-01-11T16:10:24.591', 'elapsed (s)': 16.16, 'x-axis (g)': 0.01, 'y-axis (g)': 0.99, 'z-axis (g)': -0.068}, 'similarity_score': np.float64(0.0)}\n",
      "\n",
      "Recommendation 5:\n",
      "Exercise: N/A\n",
      "Similarity Score: 0.00\n",
      "Details: {'exercise': {'epoch (ms)': 1547219424511, 'time (01:00)': '2019-01-11T16:10:24.511', 'elapsed (s)': 16.08, 'x-axis (g)': 0.027, 'y-axis (g)': 0.97, 'z-axis (g)': -0.091}, 'similarity_score': np.float64(0.0)}\n"
     ]
    }
   ],
   "source": [
    "# Example user preferences\n",
    "user_preferences = {\n",
    "    'difficulty_level': 3,  # 1-5 scale\n",
    "    'duration': 30,        # minutes\n",
    "    'intensity': 4,        # 1-5 scale\n",
    "    'equipment_needed': 1  # 1 for minimal equipment\n",
    "}\n",
    "\n",
    "# Get recommendations\n",
    "recommendations = recommender.get_recommendations(\n",
    "    user_preferences=user_preferences,\n",
    "    n_recommendations=5\n",
    ")\n",
    "\n",
    "# Display recommendations\n",
    "# Display recommendations\n",
    "for i, rec in enumerate(recommendations, 1):\n",
    "    print(f\"\\nRecommendation {i}:\")\n",
    "    \n",
    "    # If recommendation is a flat dictionary:\n",
    "    print(f\"Exercise: {rec.get('name', 'N/A')}\")\n",
    "    print(f\"Similarity Score: {rec.get('similarity_score', 0):.2f}\")\n",
    "    print(f\"Details: {rec}\")\n"
   ]
  },
  {
   "cell_type": "markdown",
   "metadata": {},
   "source": [
    "## 3. Visualize Recommendations"
   ]
  },
  {
   "cell_type": "code",
   "execution_count": 19,
   "metadata": {},
   "outputs": [
    {
     "data": {
      "image/png": "[encoded data removed]",
      "text/plain": [
       "<Figure size 1000x600 with 1 Axes>"
      ]
     },
     "metadata": {},
     "output_type": "display_data"
    }
   ],
   "source": [
    "# Create a DataFrame from recommendations\n",
    "rec_df = pd.DataFrame([\n",
    "    {\n",
    "        'Exercise': rec.get('name', 'Unknown'),\n",
    "        'Similarity Score': rec.get('similarity_score', 0)\n",
    "    }\n",
    "    for rec in recommendations\n",
    "])\n",
    "\n",
    "# Plot similarity scores\n",
    "plt.figure(figsize=(10, 6))\n",
    "sns.barplot(data=rec_df, x='Exercise', y='Similarity Score')\n",
    "plt.xticks(rotation=45, ha='right')\n",
    "plt.title('Exercise Recommendation Similarity Scores')\n",
    "plt.tight_layout()\n",
    "plt.show()\n"
   ]
  },
  {
   "cell_type": "code",
   "execution_count": null,
   "metadata": {},
   "outputs": [],
   "source": []
  }
 ],
 "metadata": {
  "kernelspec": {
   "display_name": "Python 3 (ipykernel)",
   "language": "python",
   "name": "python3"
  },
  "language_info": {
   "codemirror_mode": {
    "name": "ipython",
    "version": 3
   },
   "file_extension": ".py",
   "mimetype": "text/x-python",
   "name": "python",
   "nbconvert_exporter": "python",
   "pygments_lexer": "ipython3",
   "version": "3.13.1"
  }
 },
 "nbformat": 4,
 "nbformat_minor": 4
}
