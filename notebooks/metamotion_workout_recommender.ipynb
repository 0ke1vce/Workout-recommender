{
  "cells": [
    {
      "cell_type": "markdown",
      "metadata": {},
      "source": [
        "# Workout Recommender Demo\n",
        "\n",
        "This notebook demonstrates how to use the workout recommender system with your MetaMotion accelerometer data."
      ]
    },
    {
      "cell_type": "code",
      "metadata": {},
      "source": [
        "from src.data_processor import ExerciseDataProcessor\n",
        "from src.recommender import WorkoutRecommender\n",
        "import pandas as pd"
      ],
      "execution_count": null,
      "outputs": []
    },
    {
      "cell_type": "markdown",
      "metadata": {},
      "source": [
        "## Load and preprocess MetaMotion accelerometer data"
      ]
    },
    {
      "cell_type": "code",
      "metadata": {},
      "source": [
        "# Use a sample file from your MetaMotion folder\n",
        "data_file = 'MetaMotion/A-bench-heavy2-rpe8_MetaWear_2019-01-11T16.10.08.270_C42732BE255C_Accelerometer_12.500Hz_1.4.4.csv'\n",
        "processor = ExerciseDataProcessor(data_dir='data')\n",
        "raw_data = processor.load_raw_data(data_file)\n",
        "raw_data.head()"
      ],
      "execution_count": null,
      "outputs": []
    },
    {
      "cell_type": "markdown",
      "metadata": {},
      "source": [
        "## Preprocess the data"
      ]
    },
    {
      "cell_type": "code",
      "metadata": {},
      "source": [
        "processed_data = processor.preprocess_data()\n",
        "processed_data.info()"
      ],
      "execution_count": null,
      "outputs": []
    },
    {
      "cell_type": "markdown",
      "metadata": {},
      "source": [
        "## Use the recommender (demo with accelerometer data)"
      ]
    },
    {
      "cell_type": "code",
      "metadata": {},
      "source": [
        "recommender = WorkoutRecommender()\n",
        "recommender.load_data(processed_data)\n",
        "\n",
        "# For demo, use a random row as 'user preferences'\n",
        "user_preferences = processed_data.iloc[0][['x-axis (g)', 'y-axis (g)', 'z-axis (g)']].to_dict()\n",
        "recommendations = recommender.get_recommendations(user_preferences, n_recommendations=5)\n",
        "for i, rec in enumerate(recommendations, 1):\n",
        "    print(f'Recommendation {i}:')\n",
        "    print(rec)"
      ],
      "execution_count": null,
      "outputs": []
    }
  ],
  "metadata": {
    "kernelspec": {
      "display_name": "Python 3",
      "language": "python",
      "name": "python3"
    },
    "language_info": {
      "name": "python",
      "version": "3.8"
    }
  },
  "nbformat": 4,
  "nbformat_minor": 2
}